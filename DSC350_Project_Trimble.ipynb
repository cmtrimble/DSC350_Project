{
 "cells": [
  {
   "cell_type": "code",
   "id": "initial_id",
   "metadata": {
    "collapsed": true,
    "ExecuteTime": {
     "end_time": "2024-10-19T22:54:33.631256Z",
     "start_time": "2024-10-19T22:54:32.467462Z"
    }
   },
   "source": [
    "import pandas as pd\n",
    "\n",
    "df = pd.read_csv('1950-2019_all_tornadoes.csv')\n",
    "df.head()\n",
    "# Transformation 1 - Creates DataFrame and drops columns that are irrelevant for the intended purpose.\n",
    "df_coldrop = df.drop(columns=['om', 'stf', 'stn', 'tz', 'ns', 'sn', 'sg', 'yr', 'mo', 'dy', 'f1','f2','f3','f4','fc'])\n",
    "# Transformation 2 - Creates a column for datetime by combining 'date' and 'time' columns. Defines format for time, and drops the original columns.\n",
    "df_coldrop['datetime'] = pd.to_datetime(df_coldrop['date'] + ' ' + df_coldrop['time'], format='%Y-%m-%d %H:%M:%S')\n",
    "df_coldrop.drop(columns=['date', 'time'], inplace=True)\n",
    "# Transformation 3 - Renames abbreviated columns for uniformity.\n",
    "df_coldrop.rename(columns={\n",
    "    'st' : 'state',\n",
    "    'inj' : 'injuries',\n",
    "    'fat' : 'fatalities',\n",
    "    'len' : 'length',\n",
    "    'wid' : 'width',\n",
    "    'mag' : 'F-Scale'\n",
    "}, inplace=True)\n",
    "# Transformation 4 - Combines lat and lon into a single column as tuples and drops the original columns\n",
    "df_coldrop.loc[:, 'start_coords'] = df_coldrop.apply(lambda row: (row['slat'], row['slon']), axis=1)\n",
    "df_coldrop.loc[:, 'end_coords'] = df_coldrop.apply(lambda row: (row['elat'], row['elon']), axis=1)\n",
    "df_coldrop.drop(columns=['slat', 'slon', 'elat', 'elon'], inplace=True)\n",
    "# Transformation 5 - Changes the order of columns to read more fluently.\n",
    "ordered = ['state', 'start_coords', 'end_coords', 'datetime', 'length', 'width', 'F-Scale', 'injuries', 'fatalities']\n",
    "df_coldrop = df_coldrop[ordered]\n",
    "print(df_coldrop)\n"
   ],
   "outputs": [
    {
     "name": "stdout",
     "output_type": "stream",
     "text": [
      "      state         start_coords           end_coords            datetime  \\\n",
      "0        MO      (38.77, -90.22)      (38.83, -90.03) 1950-01-03 11:00:00   \n",
      "1        MO      (38.77, -90.22)      (38.82, -90.12) 1950-01-03 11:00:00   \n",
      "2        IL      (38.82, -90.12)      (38.83, -90.03) 1950-01-03 11:10:00   \n",
      "3        IL        (39.1, -89.3)      (39.12, -89.23) 1950-01-03 11:55:00   \n",
      "4        OH      (40.88, -84.58)           (0.0, 0.0) 1950-01-03 16:00:00   \n",
      "...     ...                  ...                  ...                 ...   \n",
      "66383    MS  (33.1628, -89.4323)  (33.2339, -89.3298) 2019-12-29 16:03:00   \n",
      "66384    MS  (33.2598, -89.2778)  (33.2879, -89.2208) 2019-12-29 16:13:00   \n",
      "66385    MS   (33.472, -89.0315)   (33.4888, -88.991) 2019-12-29 16:32:00   \n",
      "66386    MS  (32.5268, -89.1628)  (32.5581, -89.1215) 2019-12-29 17:13:00   \n",
      "66387    AL  (34.7541, -87.0777)  (34.7946, -87.0041) 2019-12-29 18:50:00   \n",
      "\n",
      "       length  width  F-Scale  injuries  fatalities  \n",
      "0        9.50    150        3         3           0  \n",
      "1        6.20    150        3         3           0  \n",
      "2        3.30    100        3         0           0  \n",
      "3        3.60    130        3         3           0  \n",
      "4        0.10     10        1         1           0  \n",
      "...       ...    ...      ...       ...         ...  \n",
      "66383    7.70    900        1         0           0  \n",
      "66384    3.82    200        1         0           0  \n",
      "66385    2.61    200        0         0           0  \n",
      "66386    3.23    125        1         0           0  \n",
      "66387    5.07     50        0         0           0  \n",
      "\n",
      "[66388 rows x 9 columns]\n"
     ]
    }
   ],
   "execution_count": 73
  },
  {
   "metadata": {
    "ExecuteTime": {
     "end_time": "2024-10-19T22:54:43.095761Z",
     "start_time": "2024-10-19T22:54:42.695319Z"
    }
   },
   "cell_type": "code",
   "source": [
    "import requests\n",
    "import pandas as pd\n",
    "\n",
    "url = 'https://public.opendatasoft.com/api/explore/v2.1/catalog/datasets/historical-tornado-tracks/records?refine=datetime%3A%222015%22'\n",
    "response = requests.get(url)\n",
    "\n",
    "if response.status_code == 200:\n",
    "    data = response.json()\n",
    "    \n",
    "    results = data['results']\n",
    "    df_api = pd.json_normalize(results)\n",
    "    print(df_api.columns)    \n",
    "# Transformation 1 - Creates DataFrame and drops columns that are irrelevant for the intended purpose.\n",
    "    columns_to_drop = [\n",
    "        'objectid', 'om', 'yr', 'mo', 'dy', 'tz', 'stf', 'stn', 'loss', 'closs', 'fc', \n",
    "        'pre_1996_loss', 'globalid', 'creationdate', 'creator', 'editdate', 'editor', 'shape_length',\n",
    "        'geo_point_2d.lon', 'geo_point_2d.lat', 'geo_shape.type', 'geo_shape.geometry.coordinates', \n",
    "        'geo_shape.geometry.type', 'dt'\n",
    "    ]\n",
    "    df_api_coldrop = df_api.drop(columns=columns_to_drop)\n",
    "    \n",
    "# Transformation 2 - Creates a column for datetime by combining 'date' and 'time' columns. Defines format for time, and drops the original columns.\n",
    "    df_api_coldrop['datetime'] = pd.to_datetime(df_api_coldrop['date'] + ' ' + df_api_coldrop['time'], format='%Y-%m-%d %H:%M:%S')\n",
    "    df_api_coldrop.drop(columns=['date', 'time'], inplace=True)\n",
    "# Transformation 3 - Renames abbreviated columns for uniformity.\n",
    "    df_api_coldrop.rename(columns={\n",
    "        'st' : 'state',\n",
    "        'inj' : 'injuries',\n",
    "        'fat' : 'fatalities',\n",
    "        'len' : 'length',\n",
    "        'wid' : 'width',\n",
    "        'mag' : 'F-Scale'\n",
    "}, inplace=True)\n",
    "# Transformation 4 - Combines lat and lon into a single column as tuples and drops the original columns\n",
    "    df_api_coldrop.loc[:, 'start_coords'] = df_api_coldrop.apply(lambda row: (row['slat'], row['slon']), axis=1)\n",
    "    df_api_coldrop.loc[:, 'end_coords'] = df_api_coldrop.apply(lambda row: (row['elat'], row['elon']), axis=1)\n",
    "    df_api_coldrop.drop(columns=['slat', 'slon', 'elat', 'elon'], inplace=True)\n",
    "# Transformation 5 - Changes the order of columns to read more fluently.\n",
    "    ordered = ['state', 'start_coords', 'end_coords', 'datetime', 'length', 'width', 'F-Scale',\n",
    "               'injuries', 'fatalities']\n",
    "    df_api_coldrop = df_api_coldrop[ordered]\n",
    "    print(df_api_coldrop.head())\n",
    "else:\n",
    "    print(f'Error: {response.status_code}')\n"
   ],
   "id": "55f86bd58accfb9",
   "outputs": [
    {
     "name": "stdout",
     "output_type": "stream",
     "text": [
      "Index(['objectid', 'om', 'yr', 'mo', 'dy', 'date', 'time', 'tz', 'st', 'stf',\n",
      "       'stn', 'mag', 'inj', 'fat', 'loss', 'closs', 'slat', 'slon', 'elat',\n",
      "       'elon', 'len', 'wid', 'fc', 'pre_1996_loss', 'globalid', 'creationdate',\n",
      "       'creator', 'editdate', 'editor', 'shape_length', 'dt', 'datetime',\n",
      "       'geo_point_2d.lon', 'geo_point_2d.lat', 'geo_shape.type',\n",
      "       'geo_shape.geometry.coordinates', 'geo_shape.geometry.type'],\n",
      "      dtype='object')\n",
      "  state     start_coords       end_coords            datetime  length  width  \\\n",
      "0    GA  (32.17, -83.36)  (32.19, -83.32) 2015-01-04 10:44:00    2.18    100   \n",
      "1    FL  (26.39, -80.14)  (26.39, -80.13) 2015-02-05 06:37:00    1.10     50   \n",
      "2    OK  (36.17, -95.88)  (36.15, -95.85) 2015-03-25 17:01:00    2.30    600   \n",
      "3    FL  (30.49, -85.95)  (30.49, -85.95) 2015-04-19 07:25:00    0.30     25   \n",
      "4    KS  (38.35, -101.2)  (38.3, -101.12) 2015-04-24 16:09:00    5.32     75   \n",
      "\n",
      "   F-Scale  injuries  fatalities  \n",
      "0        0         0           0  \n",
      "1        0         0           0  \n",
      "2        0         0           0  \n",
      "3        0         0           0  \n",
      "4        0         0           0  \n"
     ]
    }
   ],
   "execution_count": 75
  },
  {
   "metadata": {
    "ExecuteTime": {
     "end_time": "2024-11-02T18:20:44.642381Z",
     "start_time": "2024-11-02T18:20:44.545994Z"
    }
   },
   "cell_type": "code",
   "source": [
    "import requests\n",
    "from bs4 import BeautifulSoup\n",
    "import pandas as pd\n",
    "\n",
    "# Fetch and Parse HTML\n",
    "url = 'https://data.usatoday.com/tornado-archive/'\n",
    "response = requests.get(url)\n",
    "\n",
    "if response.status_code == 200:\n",
    "    soup = BeautifulSoup(response.content, 'html.parser')\n",
    "    \n",
    "    # Using table_id, searches for the called on table\n",
    "    table = soup.find('table', {'id': 'tornadoSummary'})\n",
    "    \n",
    "    if table:\n",
    "        # Extracts Table Data\n",
    "        rows = table.find_all('tr')\n",
    "        \n",
    "        data = []\n",
    "        for row in rows:\n",
    "            cols = row.find_all('td')\n",
    "            cols = [ele.text.strip() for ele in cols if ele.text.strip()]\n",
    "            if cols:\n",
    "                data.append(cols)\n",
    "        \n",
    "        # Adjusts columns based on actual data structure\n",
    "        columns = ['Year', 'Number of Tornadoes', 'Direct Injury', 'Indirect Injury', 'Direct Fatality', 'Indirect Fatality', 'Property Damage', 'Crop Damage']\n",
    "\n",
    "        # Transformation 1 - Creates DataFrame from table data.\n",
    "        html_df = pd.DataFrame(data, columns=columns)\n",
    "\n",
    "        # Transformation 2 - Merges direct and indirect Columns\n",
    "        html_df['injuries'] = pd.to_numeric(html_df['Direct Injury'], errors='coerce') + pd.to_numeric(html_df['Indirect Injury'], errors='coerce')\n",
    "        html_df['fatalities'] = pd.to_numeric(html_df['Direct Fatality'], errors='coerce') + pd.to_numeric(html_df['Indirect Fatality'], errors='coerce')\n",
    "\n",
    "        # Transformation 3 - drops unnecessary columns.  \n",
    "        html_df.drop(columns=['Direct Injury', 'Indirect Injury', 'Direct Fatality', 'Indirect Fatality'], inplace=True)\n",
    "\n",
    "        # Transformation 4 - Cleans and converts Damage Columns\n",
    "        html_df['Property Damage'] = html_df['Property Damage'].str.replace(',', '').str.replace('$', '') \n",
    "        html_df['Crop Damage'] = html_df['Crop Damage'].str.replace(',', '').str.replace('$', '')\n",
    "\n",
    "        # Transformation 5 - Converts datatypes to Numeric\n",
    "        html_df['Property Damage'] = pd.to_numeric(html_df['Property Damage'], errors='coerce')\n",
    "        html_df['Crop Damage'] = pd.to_numeric(html_df['Crop Damage'], errors='coerce')\n",
    "\n",
    "        print(html_df.head())\n",
    "    else:\n",
    "        print(\"Failed to locate the table with id 'tornadoSummary' on the webpage.\")\n",
    "else:\n",
    "    print(f\"Failed to retrieve the webpage. Status code: {response.status_code}\")\n"
   ],
   "id": "617fdc99457daa41",
   "outputs": [
    {
     "name": "stdout",
     "output_type": "stream",
     "text": [
      "   Year Number of Tornadoes  Property Damage  Crop Damage  injuries  \\\n",
      "0   All              78,269      72913636490  524295260.0       NaN   \n",
      "1  2024               1,664        935078800   13326200.0     544.0   \n",
      "2  2023               1,523       1371376500    7300800.0     955.0   \n",
      "3  2022               1,384        698683090    5550500.0     318.0   \n",
      "4  2021               1,545        232623000    2238400.0     881.0   \n",
      "\n",
      "   fatalities  \n",
      "0         NaN  \n",
      "1        45.0  \n",
      "2        91.0  \n",
      "3        25.0  \n",
      "4       107.0  \n"
     ]
    }
   ],
   "execution_count": 12
  },
  {
   "metadata": {},
   "cell_type": "code",
   "source": "",
   "id": "8be64a314140d1cb",
   "outputs": [],
   "execution_count": null
  },
  {
   "metadata": {},
   "cell_type": "code",
   "source": "",
   "id": "7654492caab873e9",
   "outputs": [],
   "execution_count": null
  },
  {
   "metadata": {},
   "cell_type": "code",
   "source": "",
   "id": "6ea45281b477f180",
   "outputs": [],
   "execution_count": null
  },
  {
   "metadata": {},
   "cell_type": "code",
   "source": "",
   "id": "bd6a76ad602fae78",
   "outputs": [],
   "execution_count": null
  }
 ],
 "metadata": {
  "kernelspec": {
   "display_name": "Python 3",
   "language": "python",
   "name": "python3"
  },
  "language_info": {
   "codemirror_mode": {
    "name": "ipython",
    "version": 2
   },
   "file_extension": ".py",
   "mimetype": "text/x-python",
   "name": "python",
   "nbconvert_exporter": "python",
   "pygments_lexer": "ipython2",
   "version": "2.7.6"
  }
 },
 "nbformat": 4,
 "nbformat_minor": 5
}
